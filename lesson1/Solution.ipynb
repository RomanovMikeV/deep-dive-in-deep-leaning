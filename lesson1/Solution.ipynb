{
 "cells": [
  {
   "cell_type": "markdown",
   "metadata": {},
   "source": [
    "# dataset.py should contain something like this / что-то подобное должно быть в dataset.py"
   ]
  },
  {
   "cell_type": "code",
   "execution_count": null,
   "metadata": {},
   "outputs": [],
   "source": [
    "import numpy\n",
    "import torch\n",
    "\n",
    "class DataSetIndex:\n",
    "    def __init__(self, seed=0, n_items=1000, low=-10.0, high=10.0):\n",
    "        valid_frac = 0.1\n",
    "        test_frac = 0.5\n",
    "\n",
    "        numpy.random.seed(seed)\n",
    "\n",
    "        Xs = numpy.random.uniform(low=low, high=high, size=n_items)\n",
    "        Ys = numpy.sin(Xs)\n",
    "        Ys += numpy.random.randn(len(Xs)) * 0.1\n",
    "\n",
    "        n_test = int(test_frac * n_items)\n",
    "        n_valid = int(valid_frac * n_items)\n",
    "\n",
    "        self.Xs = {\n",
    "            'test':  Xs[:n_test],\n",
    "            'valid': Xs[n_test:n_test + n_valid],\n",
    "            'train': Xs[n_test + n_valid:]\n",
    "        }\n",
    "\n",
    "        self.Ys = {\n",
    "            'test':  Ys[:n_test],\n",
    "            'valid': Ys[n_test:n_test + n_valid],\n",
    "            'train': Ys[n_test + n_valid:]\n",
    "        }\n",
    "\n",
    "        self.order = {\n",
    "            'test':  numpy.arange(n_test),\n",
    "            'valid': numpy.arange(n_valid),\n",
    "            'train': numpy.random.permutation(len(Xs) - n_test - n_valid)\n",
    "        }\n",
    "\n",
    "    def shuffle(self):\n",
    "        self.order['train'] = numpy.random.permutation(\n",
    "            len(self.order['train']))\n",
    "\n",
    "\n",
    "\n",
    "class DataSet:\n",
    "    def __init__(self, ds_index, mode='train'):\n",
    "        self.ds_index = ds_index\n",
    "        self.mode = mode\n",
    "\n",
    "    def __len__(self):\n",
    "        return len(self.ds_index.Xs[self.mode])\n",
    "\n",
    "    def __getitem__(self, index):\n",
    "        id = self.ds_index.order[self.mode][index]\n",
    "        x = [torch.FloatTensor([self.ds_index.Xs[self.mode][id]])]\n",
    "        y = [torch.FloatTensor([self.ds_index.Ys[self.mode][id]])]\n",
    "        return x, y, self.mode + '_' + str(id)\n",
    "\n",
    "    def shuffle(self):\n",
    "        self.ds_index.shuffle()\n"
   ]
  },
  {
   "cell_type": "markdown",
   "metadata": {},
   "source": [
    "# model.py should contdaint something like this / что-то подобное должно быть в model.py"
   ]
  },
  {
   "cell_type": "code",
   "execution_count": null,
   "metadata": {},
   "outputs": [],
   "source": [
    "import torch.nn as nn\n",
    "import torch\n",
    "from scorch.utils import OptimizerSwitch\n",
    "\n",
    "class Network(torch.nn.Module):\n",
    "    def __init__(self, n_neurons=100):\n",
    "        super(Network, self).__init__()\n",
    "        self.hidden = nn.Linear(1, n_neurons)\n",
    "        self.out = nn.Linear(n_neurons, 1)\n",
    "\n",
    "    def forward(self, x):\n",
    "        res = x[0]\n",
    "        res = self.hidden(res)\n",
    "        res = torch.sigmoid(res)\n",
    "        res = self.out(res)\n",
    "\n",
    "        return [res]\n",
    "\n",
    "class Socket:\n",
    "    def __init__(self, model):\n",
    "        self.model = model\n",
    "        self.optimizers = [OptimizerSwitch(self.model, torch.optim.Adam,\n",
    "            lr=3.0e-2)]\n",
    "        self.metric_vals = {}\n",
    "        self.epoch = 0\n",
    "        self.iteration = 0\n",
    "\n",
    "    def criterion(self, pred, targ):\n",
    "        res = (pred[0] - targ[0]) ** 2\n",
    "        return res.mean()\n",
    "\n",
    "    def metrics(self, pred, target):\n",
    "        thresholds = [0.3, 0.1, 0.03, 0.01]\n",
    "        res = {}\n",
    "\n",
    "        main = 0.0\n",
    "\n",
    "        for thresh in thresholds:\n",
    "            correct = ((pred[0] - target[0]).abs() < thresh).float().sum()\n",
    "            res['acc_' + str(thresh)] = correct / float(len(target[0]))\n",
    "            main += res['acc_' + str(thresh)]\n",
    "\n",
    "        res['main'] = main / len(thresholds)\n",
    "        return res\n",
    "\n",
    "    def process_result(self, one_input, one_output, one_id):\n",
    "        return (one_input, one_output)\n"
   ]
  },
  {
   "cell_type": "code",
   "execution_count": 1,
   "metadata": {},
   "outputs": [
    {
     "name": "stdout",
     "output_type": "stream",
     "text": [
      "Populating the interactive namespace from numpy and matplotlib\n"
     ]
    }
   ],
   "source": [
    "%pylab inline\n",
    "import torch\n",
    "import numpy\n",
    "import sys"
   ]
  },
  {
   "cell_type": "markdown",
   "metadata": {},
   "source": [
    "# Testing the dataset / Проверяем датасет"
   ]
  },
  {
   "cell_type": "code",
   "execution_count": 2,
   "metadata": {},
   "outputs": [],
   "source": [
    "import dataset"
   ]
  },
  {
   "cell_type": "code",
   "execution_count": 3,
   "metadata": {},
   "outputs": [],
   "source": [
    "ds_index = dataset.DataSetIndex(n_items=1000)\n",
    "\n",
    "ds_train = dataset.DataSet(ds_index, mode='train')\n",
    "ds_valid = dataset.DataSet(ds_index, mode='valid')\n",
    "ds_test  = dataset.DataSet(ds_index, mode='test')"
   ]
  },
  {
   "cell_type": "code",
   "execution_count": 4,
   "metadata": {},
   "outputs": [
    {
     "name": "stdout",
     "output_type": "stream",
     "text": [
      "400 <- # train data\n",
      "100 <- # valid data\n",
      "500 <- # test data\n"
     ]
    }
   ],
   "source": [
    "print(len(ds_train), '<- # train data')\n",
    "print(len(ds_valid), '<- # valid data')\n",
    "print(len(ds_test), '<- # test data')"
   ]
  },
  {
   "cell_type": "code",
   "execution_count": 5,
   "metadata": {},
   "outputs": [],
   "source": [
    "x, y, id = ds_train[0]"
   ]
  },
  {
   "cell_type": "code",
   "execution_count": 6,
   "metadata": {},
   "outputs": [
    {
     "name": "stdout",
     "output_type": "stream",
     "text": [
      "tensor([ 8.5442]) tensor([ 0.8619]) train_121\n"
     ]
    }
   ],
   "source": [
    "print(x[0], y[0], id)"
   ]
  },
  {
   "cell_type": "code",
   "execution_count": 7,
   "metadata": {},
   "outputs": [
    {
     "data": {
      "text/plain": [
       "[<matplotlib.lines.Line2D at 0x7f0d8aa084a8>]"
      ]
     },
     "execution_count": 7,
     "metadata": {},
     "output_type": "execute_result"
    },
    {
     "data": {
      "image/png": "[encoded data removed]",
      "text/plain": [
       "<Figure size 432x288 with 1 Axes>"
      ]
     },
     "metadata": {},
     "output_type": "display_data"
    }
   ],
   "source": [
    "# Viewing the dataset\n",
    "xs_train = []\n",
    "ys_train = []\n",
    "\n",
    "xs_valid = []\n",
    "ys_valid = []\n",
    "\n",
    "for x, y, id in ds_train:\n",
    "    xs_train.append(x)\n",
    "    ys_train.append(y)\n",
    "    \n",
    "for x, y, id in ds_valid:\n",
    "    xs_valid.append(x)\n",
    "    ys_valid.append(y)\n",
    "    \n",
    "plot(xs_train, ys_train, '*b')\n",
    "plot(xs_valid, ys_valid, '*r')"
   ]
  },
  {
   "cell_type": "markdown",
   "metadata": {},
   "source": [
    "# Testing the model script / Проверяем скрипт модели "
   ]
  },
  {
   "cell_type": "code",
   "execution_count": 8,
   "metadata": {},
   "outputs": [],
   "source": [
    "import model\n",
    "\n",
    "net = model.Network()\n",
    "socket = model.Socket(net)"
   ]
  },
  {
   "cell_type": "code",
   "execution_count": 9,
   "metadata": {},
   "outputs": [
    {
     "name": "stdout",
     "output_type": "stream",
     "text": [
      "[tensor([ 9.5905])]\n",
      "[tensor([-0.5263])]\n"
     ]
    }
   ],
   "source": [
    "print(x)\n",
    "print(net(x))"
   ]
  },
  {
   "cell_type": "markdown",
   "metadata": {},
   "source": [
    "# Training the model / Тренируем модель"
   ]
  },
  {
   "cell_type": "code",
   "execution_count": 10,
   "metadata": {},
   "outputs": [
    {
     "name": "stdout",
     "output_type": "stream",
     "text": [
      "Valid 0  D 0.00(0.00)  L 5.00e-01(4.64e-01)  Metrics: acc_0.3:2.10e-01 acc_0.1:8.00e-02 acc_0.03:3.00e-02 acc_0.01:1.00e-02 main:8.25e-02: 100% 13/13 [00:00<00:00, 96.81it/s]\n",
      "Train 1  D 0.00(0.00)  L 7.50e-01(4.91e-01)  : 100% 50/50 [00:00<00:00, 1103.43it/s]\n",
      "Valid 1  D 0.00(0.00)  L 4.87e-01(4.40e-01)  Metrics: acc_0.3:2.90e-01 acc_0.1:1.30e-01 acc_0.03:4.00e-02 acc_0.01:2.00e-02 main:1.20e-01: 100% 13/13 [00:00<00:00, 97.65it/s]\n",
      "Test  : 100% 63/63 [00:02<00:00, 24.07it/s]\n",
      "Train 2  D 0.00(0.00)  L 5.86e-01(4.06e-01)  : 100% 50/50 [00:00<00:00, 1351.01it/s]\n",
      "Valid 2  D 0.00(0.00)  L 4.34e-01(4.65e-01)  Metrics: acc_0.3:2.40e-01 acc_0.1:7.00e-02 acc_0.03:3.00e-02 acc_0.01:2.00e-02 main:9.00e-02: 100% 13/13 [00:00<00:00, 98.37it/s]\n",
      "Test  : 100% 63/63 [00:02<00:00, 23.57it/s]\n",
      "Train 3  D 0.00(0.00)  L 5.43e-01(3.95e-01)  : 100% 50/50 [00:00<00:00, 1330.83it/s]\n",
      "Valid 3  D 0.00(0.00)  L 4.29e-01(5.88e-01)  Metrics: acc_0.3:2.60e-01 acc_0.1:1.00e-01 acc_0.03:3.00e-02 acc_0.01:0.00e+00 main:9.75e-02: 100% 13/13 [00:00<00:00, 96.88it/s]\n",
      "Test  : 100% 63/63 [00:02<00:00, 24.20it/s]\n",
      "Train 4  D 0.00(0.00)  L 4.57e-01(6.78e-01)  : 100% 50/50 [00:00<00:00, 1136.72it/s]\n",
      "Valid 4  D 0.00(0.00)  L 4.43e-01(4.11e-01)  Metrics: acc_0.3:2.90e-01 acc_0.1:1.40e-01 acc_0.03:6.00e-02 acc_0.01:4.00e-02 main:1.33e-01: 100% 13/13 [00:00<00:00, 94.71it/s]\n",
      "Test  : 100% 63/63 [00:02<00:00, 24.18it/s]\n",
      "Train 5  D 0.00(0.00)  L 4.32e-01(5.97e-01)  : 100% 50/50 [00:00<00:00, 1389.27it/s]\n",
      "Valid 5  D 0.00(0.00)  L 3.17e-01(3.94e-01)  Metrics: acc_0.3:3.40e-01 acc_0.1:9.00e-02 acc_0.03:2.00e-02 acc_0.01:1.00e-02 main:1.15e-01: 100% 13/13 [00:00<00:00, 94.36it/s]\n",
      "Test  : 100% 63/63 [00:02<00:00, 24.40it/s]\n",
      "Train 6  D 0.00(0.00)  L 4.21e-01(3.77e-01)  : 100% 50/50 [00:00<00:00, 1240.08it/s]\n",
      "Valid 6  D 0.00(0.00)  L 4.28e-01(2.89e-01)  Metrics: acc_0.3:3.70e-01 acc_0.1:1.00e-01 acc_0.03:1.00e-02 acc_0.01:0.00e+00 main:1.20e-01: 100% 13/13 [00:00<00:00, 98.40it/s]\n",
      "Test  : 100% 63/63 [00:02<00:00, 24.36it/s]\n",
      "Train 7  D 0.00(0.00)  L 5.27e-01(3.22e-01)  : 100% 50/50 [00:00<00:00, 1304.69it/s]\n",
      "Valid 7  D 0.00(0.00)  L 4.97e-01(4.53e-01)  Metrics: acc_0.3:3.80e-01 acc_0.1:1.60e-01 acc_0.03:2.00e-02 acc_0.01:1.00e-02 main:1.42e-01: 100% 13/13 [00:00<00:00, 95.90it/s]\n",
      "Test  : 100% 63/63 [00:02<00:00, 24.41it/s]\n",
      "Train 8  D 0.00(0.00)  L 3.51e-01(6.15e-01)  : 100% 50/50 [00:00<00:00, 1266.67it/s]\n",
      "Valid 8  D 0.00(0.00)  L 3.01e-01(2.81e-01)  Metrics: acc_0.3:3.70e-01 acc_0.1:1.30e-01 acc_0.03:1.00e-02 acc_0.01:0.00e+00 main:1.27e-01: 100% 13/13 [00:00<00:00, 97.46it/s]\n",
      "Test  : 100% 63/63 [00:02<00:00, 24.13it/s]\n",
      "Train 9  D 0.00(0.00)  L 4.14e-01(6.26e-01)  : 100% 50/50 [00:00<00:00, 1284.85it/s]\n",
      "Valid 9  D 0.00(0.00)  L 2.93e-01(3.30e-01)  Metrics: acc_0.3:4.40e-01 acc_0.1:1.10e-01 acc_0.03:3.00e-02 acc_0.01:1.00e-02 main:1.47e-01: 100% 13/13 [00:00<00:00, 98.58it/s]\n",
      "Test  : 100% 63/63 [00:02<00:00, 24.06it/s]\n",
      "Train 10  D 0.00(0.00)  L 3.48e-01(1.70e-01)  : 100% 50/50 [00:00<00:00, 1352.27it/s]\n",
      "Valid 10  D 0.00(0.00)  L 3.40e-01(2.90e-01)  Metrics: acc_0.3:4.60e-01 acc_0.1:1.60e-01 acc_0.03:6.00e-02 acc_0.01:2.00e-02 main:1.75e-01: 100% 13/13 [00:00<00:00, 96.42it/s]\n",
      "Test  : 100% 63/63 [00:02<00:00, 24.03it/s]\n"
     ]
    }
   ],
   "source": [
    "!scorch-train --model model.py --dataset dataset.py --epochs 10"
   ]
  },
  {
   "cell_type": "code",
   "execution_count": 11,
   "metadata": {},
   "outputs": [
    {
     "name": "stdout",
     "output_type": "stream",
     "text": [
      "Valid 0  D 0.00(0.00)  L 5.00e-01(4.64e-01)  Metrics: acc_0.3:2.10e-01 acc_0.1:8.00e-02 acc_0.03:3.00e-02 acc_0.01:1.00e-02 main:8.25e-02: 100% 13/13 [00:00<00:00, 92.70it/s]\n",
      "Train 1  D 0.00(0.00)  L 7.50e-01(4.91e-01)  : 100% 50/50 [00:00<00:00, 1050.07it/s]\n",
      "Valid 1  D 0.00(0.00)  L 4.87e-01(4.40e-01)  Metrics: acc_0.3:2.90e-01 acc_0.1:1.30e-01 acc_0.03:4.00e-02 acc_0.01:2.00e-02 main:1.20e-01: 100% 13/13 [00:00<00:00, 96.02it/s]\n",
      "Test  : 100% 63/63 [00:02<00:00, 23.78it/s]\n",
      "Train 2  D 0.00(0.00)  L 5.86e-01(4.06e-01)  : 100% 50/50 [00:00<00:00, 1169.01it/s]\n",
      "Valid 2  D 0.00(0.00)  L 4.34e-01(4.65e-01)  Metrics: acc_0.3:2.40e-01 acc_0.1:7.00e-02 acc_0.03:3.00e-02 acc_0.01:2.00e-02 main:9.00e-02: 100% 13/13 [00:00<00:00, 96.90it/s]\n",
      "Test  : 100% 63/63 [00:02<00:00, 23.67it/s]\n",
      "Train 3  D 0.00(0.00)  L 5.43e-01(3.95e-01)  : 100% 50/50 [00:00<00:00, 1196.48it/s]\n",
      "Valid 3  D 0.00(0.00)  L 4.29e-01(5.88e-01)  Metrics: acc_0.3:2.60e-01 acc_0.1:1.00e-01 acc_0.03:3.00e-02 acc_0.01:0.00e+00 main:9.75e-02: 100% 13/13 [00:00<00:00, 98.37it/s]\n",
      "Test  : 100% 63/63 [00:02<00:00, 23.67it/s]\n",
      "Train 4  D 0.00(0.00)  L 4.57e-01(6.78e-01)  : 100% 50/50 [00:00<00:00, 1295.99it/s]\n",
      "Valid 4  D 0.00(0.00)  L 4.43e-01(4.11e-01)  Metrics: acc_0.3:2.90e-01 acc_0.1:1.40e-01 acc_0.03:6.00e-02 acc_0.01:4.00e-02 main:1.33e-01: 100% 13/13 [00:00<00:00, 97.92it/s]\n",
      "Test  : 100% 63/63 [00:02<00:00, 23.77it/s]\n",
      "Train 5  D 0.00(0.00)  L 4.32e-01(5.97e-01)  : 100% 50/50 [00:00<00:00, 1469.62it/s]\n",
      "Valid 5  D 0.00(0.00)  L 3.17e-01(3.94e-01)  Metrics: acc_0.3:3.40e-01 acc_0.1:9.00e-02 acc_0.03:2.00e-02 acc_0.01:1.00e-02 main:1.15e-01: 100% 13/13 [00:00<00:00, 97.79it/s]\n",
      "Test  : 100% 63/63 [00:02<00:00, 23.55it/s]\n",
      "Train 6  D 0.00(0.00)  L 4.21e-01(3.77e-01)  : 100% 50/50 [00:00<00:00, 1337.21it/s]\n",
      "Valid 6  D 0.00(0.00)  L 4.28e-01(2.89e-01)  Metrics: acc_0.3:3.70e-01 acc_0.1:1.00e-01 acc_0.03:1.00e-02 acc_0.01:0.00e+00 main:1.20e-01: 100% 13/13 [00:00<00:00, 95.75it/s]\n",
      "Test  : 100% 63/63 [00:02<00:00, 23.78it/s]\n",
      "Train 7  D 0.00(0.00)  L 5.27e-01(3.22e-01)  : 100% 50/50 [00:00<00:00, 1427.45it/s]\n",
      "Valid 7  D 0.00(0.00)  L 4.97e-01(4.53e-01)  Metrics: acc_0.3:3.80e-01 acc_0.1:1.60e-01 acc_0.03:2.00e-02 acc_0.01:1.00e-02 main:1.42e-01: 100% 13/13 [00:00<00:00, 94.87it/s]\n",
      "Test  : 100% 63/63 [00:02<00:00, 23.62it/s]\n",
      "Train 8  D 0.00(0.00)  L 3.51e-01(6.15e-01)  : 100% 50/50 [00:00<00:00, 1415.23it/s]\n",
      "Valid 8  D 0.00(0.00)  L 3.01e-01(2.81e-01)  Metrics: acc_0.3:3.70e-01 acc_0.1:1.30e-01 acc_0.03:1.00e-02 acc_0.01:0.00e+00 main:1.27e-01: 100% 13/13 [00:00<00:00, 96.43it/s]\n",
      "Test  : 100% 63/63 [00:02<00:00, 23.37it/s]\n",
      "Train 9  D 0.00(0.00)  L 4.14e-01(6.26e-01)  : 100% 50/50 [00:00<00:00, 1262.42it/s]\n",
      "Valid 9  D 0.00(0.00)  L 2.93e-01(3.30e-01)  Metrics: acc_0.3:4.40e-01 acc_0.1:1.10e-01 acc_0.03:3.00e-02 acc_0.01:1.00e-02 main:1.47e-01: 100% 13/13 [00:00<00:00, 97.20it/s]\n",
      "Test  : 100% 63/63 [00:02<00:00, 23.39it/s]\n",
      "Train 10  D 0.00(0.00)  L 3.48e-01(1.70e-01)  : 100% 50/50 [00:00<00:00, 1407.42it/s]\n",
      "Valid 10  D 0.00(0.00)  L 3.40e-01(2.90e-01)  Metrics: acc_0.3:4.60e-01 acc_0.1:1.60e-01 acc_0.03:6.00e-02 acc_0.01:2.00e-02 main:1.75e-01: 100% 13/13 [00:00<00:00, 94.81it/s]\n",
      "Test  : 100% 63/63 [00:02<00:00, 23.15it/s]\n",
      "Train 11  D 0.00(0.00)  L 3.17e-01(6.92e-02)  : 100% 50/50 [00:00<00:00, 1390.59it/s]\n",
      "Valid 11  D 0.00(0.00)  L 2.80e-01(4.17e-01)  Metrics: acc_0.3:4.10e-01 acc_0.1:1.60e-01 acc_0.03:9.00e-02 acc_0.01:2.00e-02 main:1.70e-01: 100% 13/13 [00:00<00:00, 98.26it/s]\n",
      "Test  : 100% 63/63 [00:02<00:00, 23.54it/s]\n",
      "Train 12  D 0.00(0.00)  L 2.89e-01(1.01e-01)  : 100% 50/50 [00:00<00:00, 1340.19it/s]\n",
      "Valid 12  D 0.00(0.00)  L 3.36e-01(5.83e-01)  Metrics: acc_0.3:5.10e-01 acc_0.1:1.70e-01 acc_0.03:6.00e-02 acc_0.01:4.00e-02 main:1.95e-01: 100% 13/13 [00:00<00:00, 95.51it/s]\n",
      "Test  : 100% 63/63 [00:02<00:00, 23.24it/s]\n",
      "Train 13  D 0.00(0.00)  L 2.79e-01(3.43e-01)  : 100% 50/50 [00:00<00:00, 1235.15it/s]\n",
      "Valid 13  D 0.00(0.00)  L 3.00e-01(6.06e-01)  Metrics: acc_0.3:3.80e-01 acc_0.1:1.00e-01 acc_0.03:2.00e-02 acc_0.01:0.00e+00 main:1.25e-01: 100% 13/13 [00:00<00:00, 98.92it/s]\n",
      "Test  : 100% 63/63 [00:02<00:00, 23.70it/s]\n",
      "Train 14  D 0.00(0.00)  L 2.72e-01(4.85e-01)  : 100% 50/50 [00:00<00:00, 1272.07it/s]\n",
      "Valid 14  D 0.00(0.00)  L 2.70e-01(4.05e-01)  Metrics: acc_0.3:4.20e-01 acc_0.1:1.60e-01 acc_0.03:4.00e-02 acc_0.01:1.00e-02 main:1.57e-01: 100% 13/13 [00:00<00:00, 95.13it/s]\n",
      "Test  : 100% 63/63 [00:02<00:00, 22.68it/s]\n",
      "Train 15  D 0.00(0.00)  L 2.08e-01(1.45e-01)  : 100% 50/50 [00:00<00:00, 966.03it/s]\n",
      "Valid 15  D 0.00(0.00)  L 2.13e-01(3.69e-01)  Metrics: acc_0.3:5.30e-01 acc_0.1:2.20e-01 acc_0.03:4.00e-02 acc_0.01:1.00e-02 main:2.00e-01: 100% 13/13 [00:00<00:00, 97.07it/s]\n",
      "Test  : 100% 63/63 [00:02<00:00, 23.27it/s]\n",
      "Train 16  D 0.00(0.00)  L 2.01e-01(1.47e-01)  : 100% 50/50 [00:00<00:00, 1488.89it/s]\n",
      "Valid 16  D 0.00(0.00)  L 2.72e-01(4.22e-01)  Metrics: acc_0.3:4.90e-01 acc_0.1:1.60e-01 acc_0.03:7.00e-02 acc_0.01:2.00e-02 main:1.85e-01: 100% 13/13 [00:00<00:00, 98.58it/s]\n",
      "Test  : 100% 63/63 [00:02<00:00, 23.92it/s]\n",
      "Train 17  D 0.00(0.00)  L 1.86e-01(3.34e-01)  : 100% 50/50 [00:00<00:00, 1360.02it/s]\n",
      "Valid 17  D 0.00(0.00)  L 1.92e-01(2.55e-01)  Metrics: acc_0.3:5.70e-01 acc_0.1:2.00e-01 acc_0.03:4.00e-02 acc_0.01:1.00e-02 main:2.05e-01: 100% 13/13 [00:00<00:00, 95.35it/s]\n",
      "Test  : 100% 63/63 [00:02<00:00, 23.53it/s]\n",
      "Train 18  D 0.00(0.00)  L 1.83e-01(1.42e-01)  : 100% 50/50 [00:00<00:00, 1359.99it/s]\n",
      "Valid 18  D 0.00(0.00)  L 1.72e-01(3.57e-01)  Metrics: acc_0.3:6.20e-01 acc_0.1:2.80e-01 acc_0.03:1.20e-01 acc_0.01:4.00e-02 main:2.65e-01: 100% 13/13 [00:00<00:00, 99.28it/s]\n",
      "Test  : 100% 63/63 [00:02<00:00, 23.95it/s]\n",
      "Train 19  D 0.00(0.00)  L 1.72e-01(2.64e-01)  : 100% 50/50 [00:00<00:00, 1226.10it/s]\n",
      "Valid 19  D 0.00(0.00)  L 2.20e-01(2.91e-01)  Metrics: acc_0.3:5.30e-01 acc_0.1:1.90e-01 acc_0.03:8.00e-02 acc_0.01:3.00e-02 main:2.07e-01: 100% 13/13 [00:00<00:00, 98.35it/s]\n",
      "Test  : 100% 63/63 [00:02<00:00, 23.56it/s]\n",
      "Train 20  D 0.00(0.00)  L 1.65e-01(2.22e-01)  : 100% 50/50 [00:00<00:00, 1025.07it/s]\n",
      "Valid 20  D 0.00(0.00)  L 2.96e-01(3.88e-01)  Metrics: acc_0.3:3.20e-01 acc_0.1:2.00e-02 acc_0.03:0.00e+00 acc_0.01:0.00e+00 main:8.50e-02: 100% 13/13 [00:00<00:00, 97.71it/s]\n",
      "Test  : 100% 63/63 [00:02<00:00, 23.26it/s]\n",
      "Train 21  D 0.00(0.00)  L 1.68e-01(9.25e-02)  : 100% 50/50 [00:00<00:00, 1373.04it/s]\n",
      "Valid 21  D 0.00(0.00)  L 2.45e-01(1.87e-01)  Metrics: acc_0.3:5.60e-01 acc_0.1:1.70e-01 acc_0.03:4.00e-02 acc_0.01:0.00e+00 main:1.93e-01: 100% 13/13 [00:00<00:00, 98.55it/s]\n",
      "Test  : 100% 63/63 [00:02<00:00, 23.54it/s]\n",
      "Train 22  D 0.00(0.00)  L 1.76e-01(9.10e-02)  : 100% 50/50 [00:00<00:00, 1455.73it/s]\n",
      "Valid 22  D 0.00(0.00)  L 2.37e-01(2.35e-01)  Metrics: acc_0.3:4.40e-01 acc_0.1:2.30e-01 acc_0.03:4.00e-02 acc_0.01:2.00e-02 main:1.83e-01: 100% 13/13 [00:00<00:00, 97.09it/s]\n",
      "Test  : 100% 63/63 [00:02<00:00, 23.12it/s]\n",
      "Train 23  D 0.00(0.00)  L 1.55e-01(7.46e-02)  : 100% 50/50 [00:00<00:00, 1363.49it/s]\n",
      "Valid 23  D 0.00(0.00)  L 1.55e-01(4.09e-01)  Metrics: acc_0.3:6.30e-01 acc_0.1:3.30e-01 acc_0.03:1.50e-01 acc_0.01:3.00e-02 main:2.85e-01: 100% 13/13 [00:00<00:00, 97.76it/s]\n",
      "Test  : 100% 63/63 [00:02<00:00, 23.46it/s]\n",
      "Train 24  D 0.00(0.00)  L 1.51e-01(1.52e-01)  : 100% 50/50 [00:00<00:00, 1363.88it/s]\n",
      "Valid 24  D 0.00(0.00)  L 2.39e-01(4.92e-01)  Metrics: acc_0.3:6.90e-01 acc_0.1:3.50e-01 acc_0.03:5.00e-02 acc_0.01:2.00e-02 main:2.77e-01: 100% 13/13 [00:00<00:00, 97.76it/s]\n",
      "Test  : 100% 63/63 [00:02<00:00, 22.68it/s]\n",
      "Train 25  D 0.00(0.00)  L 1.64e-01(2.39e-02)  : 100% 50/50 [00:00<00:00, 1161.76it/s]\n",
      "Valid 25  D 0.00(0.00)  L 1.74e-01(3.79e-01)  Metrics: acc_0.3:6.50e-01 acc_0.1:4.00e-01 acc_0.03:1.30e-01 acc_0.01:5.00e-02 main:3.07e-01: 100% 13/13 [00:00<00:00, 97.57it/s]\n",
      "Test  : 100% 63/63 [00:02<00:00, 23.27it/s]\n",
      "Train 26  D 0.00(0.00)  L 1.39e-01(4.71e-02)  : 100% 50/50 [00:00<00:00, 1137.22it/s]\n",
      "Valid 26  D 0.00(0.00)  L 1.47e-01(2.77e-01)  Metrics: acc_0.3:6.70e-01 acc_0.1:3.10e-01 acc_0.03:8.00e-02 acc_0.01:2.00e-02 main:2.70e-01: 100% 13/13 [00:00<00:00, 97.45it/s]\n",
      "Test  : 100% 63/63 [00:02<00:00, 23.31it/s]\n",
      "Train 27  D 0.00(0.00)  L 1.51e-01(2.22e-01)  : 100% 50/50 [00:00<00:00, 1391.89it/s]\n",
      "Valid 27  D 0.00(0.00)  L 2.07e-01(5.11e-01)  Metrics: acc_0.3:5.70e-01 acc_0.1:1.70e-01 acc_0.03:7.00e-02 acc_0.01:3.00e-02 main:2.10e-01: 100% 13/13 [00:00<00:00, 96.58it/s]\n",
      "Test  : 100% 63/63 [00:02<00:00, 23.37it/s]\n",
      "Train 28  D 0.00(0.00)  L 1.59e-01(2.03e-01)  : 100% 50/50 [00:00<00:00, 1380.85it/s]\n",
      "Valid 28  D 0.00(0.00)  L 1.39e-01(2.41e-01)  Metrics: acc_0.3:6.30e-01 acc_0.1:3.00e-01 acc_0.03:1.00e-01 acc_0.01:2.00e-02 main:2.62e-01: 100% 13/13 [00:00<00:00, 99.73it/s]\n",
      "Test  : 100% 63/63 [00:02<00:00, 23.00it/s]\n",
      "Train 29  D 0.00(0.00)  L 1.34e-01(2.18e-02)  : 100% 50/50 [00:00<00:00, 1388.34it/s]\n",
      "Valid 29  D 0.00(0.00)  L 1.63e-01(3.34e-01)  Metrics: acc_0.3:4.90e-01 acc_0.1:1.60e-01 acc_0.03:4.00e-02 acc_0.01:1.00e-02 main:1.75e-01: 100% 13/13 [00:00<00:00, 89.64it/s]\n",
      "Test  : 100% 63/63 [00:02<00:00, 23.14it/s]\n",
      "Train 30  D 0.00(0.00)  L 1.80e-01(2.96e-01)  : 100% 50/50 [00:00<00:00, 1258.01it/s]\n",
      "Valid 30  D 0.00(0.00)  L 1.67e-01(4.11e-01)  Metrics: acc_0.3:6.80e-01 acc_0.1:2.70e-01 acc_0.03:6.00e-02 acc_0.01:0.00e+00 main:2.52e-01: 100% 13/13 [00:00<00:00, 99.17it/s]\n",
      "Test  : 100% 63/63 [00:02<00:00, 23.35it/s]\n",
      "Train 31  D 0.00(0.00)  L 1.74e-01(4.80e-01)  : 100% 50/50 [00:00<00:00, 1313.83it/s]\n",
      "Valid 31  D 0.00(0.00)  L 1.58e-01(3.65e-01)  Metrics: acc_0.3:6.80e-01 acc_0.1:4.70e-01 acc_0.03:1.40e-01 acc_0.01:4.00e-02 main:3.32e-01: 100% 13/13 [00:00<00:00, 93.43it/s]\n",
      "Test  : 100% 63/63 [00:02<00:00, 22.98it/s]\n",
      "Train 32  D 0.00(0.00)  L 1.43e-01(3.67e-01)  : 100% 50/50 [00:00<00:00, 1400.69it/s]\n",
      "Valid 32  D 0.00(0.00)  L 1.97e-01(4.70e-01)  Metrics: acc_0.3:5.40e-01 acc_0.1:2.20e-01 acc_0.03:4.00e-02 acc_0.01:1.00e-02 main:2.03e-01: 100% 13/13 [00:00<00:00, 98.40it/s]\n",
      "Test  : 100% 63/63 [00:02<00:00, 23.33it/s]\n",
      "Train 33  D 0.00(0.00)  L 1.43e-01(1.16e-01)  : 100% 50/50 [00:00<00:00, 1095.81it/s]\n",
      "Valid 33  D 0.00(0.00)  L 1.46e-01(4.07e-01)  Metrics: acc_0.3:6.80e-01 acc_0.1:2.70e-01 acc_0.03:4.00e-02 acc_0.01:2.00e-02 main:2.53e-01: 100% 13/13 [00:00<00:00, 95.58it/s]\n",
      "Test  : 100% 63/63 [00:02<00:00, 23.31it/s]\n",
      "Train 34  D 0.00(0.00)  L 1.52e-01(1.16e-01)  : 100% 50/50 [00:00<00:00, 1085.11it/s]\n",
      "Valid 34  D 0.00(0.00)  L 1.64e-01(3.12e-01)  Metrics: acc_0.3:6.70e-01 acc_0.1:3.10e-01 acc_0.03:8.00e-02 acc_0.01:6.00e-02 main:2.80e-01: 100% 13/13 [00:00<00:00, 96.82it/s]\n",
      "Test  : 100% 63/63 [00:02<00:00, 23.17it/s]\n",
      "Train 35  D 0.00(0.00)  L 1.65e-01(4.73e-01)  : 100% 50/50 [00:00<00:00, 1319.45it/s]\n",
      "Valid 35  D 0.00(0.00)  L 1.86e-01(4.41e-01)  Metrics: acc_0.3:6.30e-01 acc_0.1:3.10e-01 acc_0.03:9.00e-02 acc_0.01:3.00e-02 main:2.65e-01: 100% 13/13 [00:00<00:00, 92.90it/s]\n",
      "Test  : 100% 63/63 [00:02<00:00, 23.01it/s]\n",
      "Train 36  D 0.00(0.00)  L 1.73e-01(1.12e-01)  : 100% 50/50 [00:00<00:00, 1338.91it/s]\n",
      "Valid 36  D 0.00(0.00)  L 1.21e-01(2.66e-01)  Metrics: acc_0.3:6.50e-01 acc_0.1:4.10e-01 acc_0.03:1.90e-01 acc_0.01:7.00e-02 main:3.30e-01: 100% 13/13 [00:00<00:00, 98.14it/s]\n",
      "Test  : 100% 63/63 [00:02<00:00, 22.95it/s]\n",
      "Train 37  D 0.00(0.00)  L 1.53e-01(1.56e-01)  : 100% 50/50 [00:00<00:00, 1358.65it/s]\n",
      "Valid 37  D 0.00(0.00)  L 1.30e-01(2.90e-01)  Metrics: acc_0.3:6.80e-01 acc_0.1:2.80e-01 acc_0.03:1.20e-01 acc_0.01:6.00e-02 main:2.85e-01: 100% 13/13 [00:00<00:00, 97.79it/s]\n",
      "Test  : 100% 63/63 [00:02<00:00, 22.85it/s]\n",
      "Train 38  D 0.00(0.00)  L 1.35e-01(8.39e-02)  : 100% 50/50 [00:00<00:00, 1170.98it/s]\n",
      "Valid 38  D 0.00(0.00)  L 1.84e-01(3.77e-01)  Metrics: acc_0.3:6.10e-01 acc_0.1:2.20e-01 acc_0.03:7.00e-02 acc_0.01:2.00e-02 main:2.30e-01: 100% 13/13 [00:00<00:00, 89.57it/s]\n",
      "Test  : 100% 63/63 [00:02<00:00, 22.77it/s]\n",
      "Train 39  D 0.00(0.00)  L 1.45e-01(8.39e-02)  : 100% 50/50 [00:00<00:00, 1262.33it/s]\n",
      "Valid 39  D 0.00(0.00)  L 1.24e-01(1.98e-01)  Metrics: acc_0.3:6.90e-01 acc_0.1:3.60e-01 acc_0.03:1.40e-01 acc_0.01:3.00e-02 main:3.05e-01: 100% 13/13 [00:00<00:00, 97.39it/s]\n",
      "Test  : 100% 63/63 [00:02<00:00, 22.38it/s]\n",
      "Train 40  D 0.00(0.00)  L 1.34e-01(1.53e-01)  : 100% 50/50 [00:00<00:00, 1361.24it/s]\n",
      "Valid 40  D 0.00(0.00)  L 2.33e-01(1.80e-01)  Metrics: acc_0.3:4.60e-01 acc_0.1:1.20e-01 acc_0.03:5.00e-02 acc_0.01:1.00e-02 main:1.60e-01: 100% 13/13 [00:00<00:00, 90.63it/s]\n",
      "Test  : 100% 63/63 [00:02<00:00, 22.82it/s]\n",
      "Train 41  D 0.00(0.00)  L 1.39e-01(3.34e-02)  : 100% 50/50 [00:00<00:00, 1124.43it/s]\n",
      "Valid 41  D 0.00(0.00)  L 1.67e-01(3.01e-01)  Metrics: acc_0.3:7.00e-01 acc_0.1:3.10e-01 acc_0.03:8.00e-02 acc_0.01:4.00e-02 main:2.82e-01: 100% 13/13 [00:00<00:00, 98.46it/s]\n",
      "Test  : 100% 63/63 [00:02<00:00, 22.60it/s]\n",
      "Train 42  D 0.00(0.00)  L 1.58e-01(1.17e-01)  : 100% 50/50 [00:00<00:00, 1324.21it/s]\n",
      "Valid 42  D 0.00(0.00)  L 2.28e-01(5.39e-01)  Metrics: acc_0.3:6.80e-01 acc_0.1:3.20e-01 acc_0.03:1.30e-01 acc_0.01:4.00e-02 main:2.92e-01: 100% 13/13 [00:00<00:00, 95.05it/s]\n",
      "Test  : 100% 63/63 [00:02<00:00, 22.05it/s]\n",
      "Train 43  D 0.00(0.00)  L 1.46e-01(2.74e-02)  : 100% 50/50 [00:00<00:00, 1356.95it/s]\n",
      "Valid 43  D 0.00(0.00)  L 1.50e-01(3.39e-01)  Metrics: acc_0.3:6.90e-01 acc_0.1:3.90e-01 acc_0.03:9.00e-02 acc_0.01:5.00e-02 main:3.05e-01: 100% 13/13 [00:00<00:00, 94.34it/s]\n",
      "Test  : 100% 63/63 [00:02<00:00, 22.75it/s]\n",
      "Train 44  D 0.00(0.00)  L 1.26e-01(6.21e-02)  : 100% 50/50 [00:00<00:00, 1350.01it/s]\n",
      "Valid 44  D 0.00(0.00)  L 1.20e-01(2.48e-01)  Metrics: acc_0.3:6.70e-01 acc_0.1:2.80e-01 acc_0.03:1.10e-01 acc_0.01:4.00e-02 main:2.75e-01: 100% 13/13 [00:00<00:00, 96.24it/s]\n",
      "Test  : 100% 63/63 [00:02<00:00, 22.12it/s]\n",
      "Train 45  D 0.00(0.00)  L 1.30e-01(5.15e-02)  : 100% 50/50 [00:00<00:00, 880.45it/s]\n",
      "Valid 45  D 0.00(0.00)  L 1.22e-01(3.55e-01)  Metrics: acc_0.3:7.50e-01 acc_0.1:4.10e-01 acc_0.03:1.70e-01 acc_0.01:9.00e-02 main:3.55e-01: 100% 13/13 [00:00<00:00, 97.95it/s]\n",
      "Test  : 100% 63/63 [00:02<00:00, 22.22it/s]\n",
      "Train 46  D 0.00(0.00)  L 1.14e-01(6.95e-02)  : 100% 50/50 [00:00<00:00, 1169.67it/s]\n",
      "Valid 46  D 0.00(0.00)  L 1.40e-01(3.12e-01)  Metrics: acc_0.3:6.90e-01 acc_0.1:3.00e-01 acc_0.03:7.00e-02 acc_0.01:1.00e-02 main:2.68e-01: 100% 13/13 [00:00<00:00, 96.37it/s]\n",
      "Test  : 100% 63/63 [00:02<00:00, 22.82it/s]\n",
      "Train 47  D 0.00(0.00)  L 1.29e-01(5.55e-02)  : 100% 50/50 [00:00<00:00, 1008.63it/s]\n",
      "Valid 47  D 0.00(0.00)  L 1.33e-01(1.91e-01)  Metrics: acc_0.3:6.70e-01 acc_0.1:3.80e-01 acc_0.03:1.00e-01 acc_0.01:3.00e-02 main:2.95e-01: 100% 13/13 [00:00<00:00, 93.06it/s]\n",
      "Test  : 100% 63/63 [00:02<00:00, 21.48it/s]\n",
      "Train 48  D 0.00(0.00)  L 1.32e-01(6.88e-02)  : 100% 50/50 [00:00<00:00, 1318.93it/s]\n",
      "Valid 48  D 0.00(0.00)  L 1.27e-01(2.68e-01)  Metrics: acc_0.3:6.60e-01 acc_0.1:2.80e-01 acc_0.03:7.00e-02 acc_0.01:0.00e+00 main:2.53e-01: 100% 13/13 [00:00<00:00, 98.86it/s]\n",
      "Test  : 100% 63/63 [00:02<00:00, 21.99it/s]\n",
      "Train 49  D 0.00(0.00)  L 1.16e-01(3.39e-02)  : 100% 50/50 [00:00<00:00, 1360.40it/s]\n",
      "Valid 49  D 0.00(0.00)  L 1.73e-01(4.30e-01)  Metrics: acc_0.3:7.80e-01 acc_0.1:4.20e-01 acc_0.03:1.10e-01 acc_0.01:8.00e-02 main:3.47e-01: 100% 13/13 [00:00<00:00, 98.15it/s]\n",
      "Test  : 100% 63/63 [00:02<00:00, 21.79it/s]\n",
      "Train 50  D 0.00(0.00)  L 1.08e-01(2.97e-02)  : 100% 50/50 [00:00<00:00, 1212.15it/s]\n",
      "Valid 50  D 0.00(0.00)  L 1.31e-01(2.76e-01)  Metrics: acc_0.3:7.30e-01 acc_0.1:4.20e-01 acc_0.03:1.20e-01 acc_0.01:5.00e-02 main:3.30e-01: 100% 13/13 [00:00<00:00, 96.94it/s]\n",
      "Test  : 100% 63/63 [00:02<00:00, 22.24it/s]\n",
      "Train 51  D 0.00(0.00)  L 1.26e-01(1.75e-01)  : 100% 50/50 [00:00<00:00, 1181.76it/s]\n",
      "Valid 51  D 0.00(0.00)  L 1.74e-01(3.16e-01)  Metrics: acc_0.3:6.30e-01 acc_0.1:2.90e-01 acc_0.03:8.00e-02 acc_0.01:3.00e-02 main:2.57e-01: 100% 13/13 [00:00<00:00, 95.55it/s]\n",
      "Test  : 100% 63/63 [00:02<00:00, 23.12it/s]\n",
      "Train 52  D 0.00(0.00)  L 1.30e-01(6.98e-02)  : 100% 50/50 [00:00<00:00, 1420.99it/s]\n",
      "Valid 52  D 0.00(0.00)  L 1.77e-01(2.22e-01)  Metrics: acc_0.3:6.60e-01 acc_0.1:3.50e-01 acc_0.03:9.00e-02 acc_0.01:6.00e-02 main:2.90e-01: 100% 13/13 [00:00<00:00, 98.45it/s]\n",
      "Test  : 100% 63/63 [00:02<00:00, 22.12it/s]\n",
      "Train 53  D 0.00(0.00)  L 1.12e-01(5.49e-02)  : 100% 50/50 [00:00<00:00, 1040.54it/s]\n",
      "Valid 53  D 0.00(0.00)  L 1.25e-01(2.72e-01)  Metrics: acc_0.3:7.30e-01 acc_0.1:3.80e-01 acc_0.03:1.20e-01 acc_0.01:6.00e-02 main:3.22e-01: 100% 13/13 [00:00<00:00, 94.16it/s]\n",
      "Test  : 100% 63/63 [00:02<00:00, 23.48it/s]\n",
      "Train 54  D 0.00(0.00)  L 1.08e-01(2.35e-01)  : 100% 50/50 [00:00<00:00, 1280.62it/s]\n",
      "Valid 54  D 0.00(0.00)  L 1.54e-01(4.05e-01)  Metrics: acc_0.3:7.10e-01 acc_0.1:3.60e-01 acc_0.03:1.20e-01 acc_0.01:2.00e-02 main:3.02e-01: 100% 13/13 [00:00<00:00, 94.81it/s]\n",
      "Test  : 100% 63/63 [00:02<00:00, 23.10it/s]\n",
      "Train 55  D 0.00(0.00)  L 1.08e-01(3.87e-02)  : 100% 50/50 [00:00<00:00, 1133.23it/s]\n",
      "Valid 55  D 0.00(0.00)  L 1.04e-01(2.01e-01)  Metrics: acc_0.3:7.30e-01 acc_0.1:3.70e-01 acc_0.03:1.20e-01 acc_0.01:3.00e-02 main:3.12e-01: 100% 13/13 [00:00<00:00, 97.65it/s]\n",
      "Test  : 100% 63/63 [00:02<00:00, 23.43it/s]\n",
      "Train 56  D 0.00(0.00)  L 1.10e-01(3.02e-01)  : 100% 50/50 [00:00<00:00, 1313.11it/s]\n",
      "Valid 56  D 0.00(0.00)  L 2.34e-01(4.65e-01)  Metrics: acc_0.3:5.00e-01 acc_0.1:2.50e-01 acc_0.03:8.00e-02 acc_0.01:2.00e-02 main:2.12e-01: 100% 13/13 [00:00<00:00, 97.87it/s]\n",
      "Test  : 100% 63/63 [00:02<00:00, 23.51it/s]\n",
      "Train 57  D 0.00(0.00)  L 1.29e-01(1.25e-01)  : 100% 50/50 [00:00<00:00, 1314.80it/s]\n",
      "Valid 57  D 0.00(0.00)  L 2.29e-01(4.60e-01)  Metrics: acc_0.3:5.80e-01 acc_0.1:2.30e-01 acc_0.03:9.00e-02 acc_0.01:3.00e-02 main:2.32e-01: 100% 13/13 [00:00<00:00, 94.91it/s]\n",
      "Test  : 100% 63/63 [00:02<00:00, 23.47it/s]\n",
      "Train 58  D 0.00(0.00)  L 1.10e-01(7.25e-02)  : 100% 50/50 [00:00<00:00, 1343.91it/s]\n",
      "Valid 58  D 0.00(0.00)  L 9.79e-02(2.15e-01)  Metrics: acc_0.3:7.00e-01 acc_0.1:2.30e-01 acc_0.03:9.00e-02 acc_0.01:3.00e-02 main:2.62e-01: 100% 13/13 [00:00<00:00, 99.42it/s]\n",
      "Test  : 100% 63/63 [00:02<00:00, 23.78it/s]\n",
      "Train 59  D 0.00(0.00)  L 1.11e-01(5.87e-02)  : 100% 50/50 [00:00<00:00, 1077.05it/s]\n",
      "Valid 59  D 0.00(0.00)  L 1.30e-01(3.66e-01)  Metrics: acc_0.3:7.00e-01 acc_0.1:3.40e-01 acc_0.03:1.00e-01 acc_0.01:5.00e-02 main:2.97e-01: 100% 13/13 [00:00<00:00, 92.42it/s]\n",
      "Test  : 100% 63/63 [00:02<00:00, 23.67it/s]\n",
      "Train 60  D 0.00(0.00)  L 1.17e-01(9.56e-02)  : 100% 50/50 [00:00<00:00, 1052.08it/s]\n",
      "Valid 60  D 0.00(0.00)  L 1.15e-01(2.34e-01)  Metrics: acc_0.3:6.60e-01 acc_0.1:2.90e-01 acc_0.03:1.10e-01 acc_0.01:2.00e-02 main:2.70e-01: 100% 13/13 [00:00<00:00, 93.24it/s]\n",
      "Test  : 100% 63/63 [00:02<00:00, 23.34it/s]\n",
      "Train 61  D 0.00(0.00)  L 9.17e-02(6.36e-02)  : 100% 50/50 [00:00<00:00, 1330.44it/s]\n",
      "Valid 61  D 0.00(0.00)  L 1.35e-01(3.25e-01)  Metrics: acc_0.3:6.10e-01 acc_0.1:2.20e-01 acc_0.03:8.00e-02 acc_0.01:2.00e-02 main:2.33e-01: 100% 13/13 [00:00<00:00, 92.99it/s]\n",
      "Test  : 100% 63/63 [00:02<00:00, 23.25it/s]\n",
      "Train 62  D 0.00(0.00)  L 8.83e-02(7.00e-02)  : 100% 50/50 [00:00<00:00, 1408.97it/s]\n",
      "Valid 62  D 0.00(0.00)  L 7.28e-02(1.34e-01)  Metrics: acc_0.3:7.50e-01 acc_0.1:4.20e-01 acc_0.03:1.30e-01 acc_0.01:6.00e-02 main:3.40e-01: 100% 13/13 [00:00<00:00, 96.69it/s]\n",
      "Test  : 100% 63/63 [00:02<00:00, 23.20it/s]\n",
      "Train 63  D 0.00(0.00)  L 1.10e-01(1.76e-01)  : 100% 50/50 [00:00<00:00, 986.55it/s]\n",
      "Valid 63  D 0.00(0.00)  L 3.79e-01(5.68e-01)  Metrics: acc_0.3:3.50e-01 acc_0.1:1.60e-01 acc_0.03:7.00e-02 acc_0.01:3.00e-02 main:1.52e-01: 100% 13/13 [00:00<00:00, 97.21it/s]\n",
      "Test  : 100% 63/63 [00:02<00:00, 22.91it/s]\n",
      "Train 64  D 0.00(0.00)  L 1.29e-01(9.38e-02)  : 100% 50/50 [00:00<00:00, 1289.13it/s]\n",
      "Valid 64  D 0.00(0.00)  L 1.06e-01(1.10e-01)  Metrics: acc_0.3:7.50e-01 acc_0.1:3.00e-01 acc_0.03:8.00e-02 acc_0.01:1.00e-02 main:2.85e-01: 100% 13/13 [00:00<00:00, 96.75it/s]\n",
      "Test  : 100% 63/63 [00:02<00:00, 23.17it/s]\n",
      "Train 65  D 0.00(0.00)  L 8.35e-02(1.71e-01)  : 100% 50/50 [00:00<00:00, 1191.58it/s]\n",
      "Valid 65  D 0.00(0.00)  L 8.66e-02(2.34e-01)  Metrics: acc_0.3:7.60e-01 acc_0.1:3.60e-01 acc_0.03:1.40e-01 acc_0.01:4.00e-02 main:3.25e-01: 100% 13/13 [00:00<00:00, 95.04it/s]\n",
      "Test  : 100% 63/63 [00:02<00:00, 23.44it/s]\n",
      "Train 66  D 0.00(0.00)  L 8.90e-02(1.41e-01)  : 100% 50/50 [00:00<00:00, 1138.48it/s]\n",
      "Valid 66  D 0.00(0.00)  L 9.76e-02(1.20e-01)  Metrics: acc_0.3:6.20e-01 acc_0.1:2.50e-01 acc_0.03:7.00e-02 acc_0.01:3.00e-02 main:2.42e-01: 100% 13/13 [00:00<00:00, 96.48it/s]\n",
      "Test  : 100% 63/63 [00:02<00:00, 22.86it/s]\n",
      "Train 67  D 0.00(0.00)  L 6.78e-02(1.28e-01)  : 100% 50/50 [00:00<00:00, 1040.12it/s]\n",
      "Valid 67  D 0.00(0.00)  L 7.03e-02(2.41e-01)  Metrics: acc_0.3:8.30e-01 acc_0.1:5.00e-01 acc_0.03:1.40e-01 acc_0.01:4.00e-02 main:3.77e-01: 100% 13/13 [00:00<00:00, 99.08it/s]\n",
      "Test  : 100% 63/63 [00:02<00:00, 23.15it/s]\n",
      "Train 68  D 0.00(0.00)  L 7.66e-02(2.31e-02)  : 100% 50/50 [00:00<00:00, 1140.27it/s]\n",
      "Valid 68  D 0.00(0.00)  L 1.53e-01(1.31e-01)  Metrics: acc_0.3:6.00e-01 acc_0.1:1.80e-01 acc_0.03:3.00e-02 acc_0.01:2.00e-02 main:2.07e-01: 100% 13/13 [00:00<00:00, 97.92it/s]\n",
      "Test  : 100% 63/63 [00:02<00:00, 23.13it/s]\n",
      "Train 69  D 0.00(0.00)  L 6.58e-02(2.30e-02)  : 100% 50/50 [00:00<00:00, 1332.07it/s]\n",
      "Valid 69  D 0.00(0.00)  L 7.06e-02(2.42e-01)  Metrics: acc_0.3:8.40e-01 acc_0.1:5.30e-01 acc_0.03:1.70e-01 acc_0.01:7.00e-02 main:4.02e-01: 100% 13/13 [00:00<00:00, 92.05it/s]\n",
      "Test  : 100% 63/63 [00:02<00:00, 23.16it/s]\n",
      "Train 70  D 0.00(0.00)  L 6.66e-02(3.36e-02)  : 100% 50/50 [00:00<00:00, 1311.33it/s]\n",
      "Valid 70  D 0.00(0.00)  L 7.04e-02(1.83e-01)  Metrics: acc_0.3:8.00e-01 acc_0.1:3.70e-01 acc_0.03:1.30e-01 acc_0.01:3.00e-02 main:3.33e-01: 100% 13/13 [00:00<00:00, 92.84it/s]\n",
      "Test  : 100% 63/63 [00:02<00:00, 23.02it/s]\n",
      "Train 71  D 0.00(0.00)  L 6.53e-02(4.25e-02)  : 100% 50/50 [00:00<00:00, 1250.07it/s]\n",
      "Valid 71  D 0.00(0.00)  L 7.20e-02(5.29e-02)  Metrics: acc_0.3:7.90e-01 acc_0.1:3.60e-01 acc_0.03:1.10e-01 acc_0.01:5.00e-02 main:3.28e-01: 100% 13/13 [00:00<00:00, 93.23it/s]\n",
      "Test  : 100% 63/63 [00:02<00:00, 23.30it/s]\n",
      "Train 72  D 0.00(0.00)  L 6.52e-02(4.89e-02)  : 100% 50/50 [00:00<00:00, 1076.36it/s]\n",
      "Valid 72  D 0.00(0.00)  L 6.63e-02(1.03e-01)  Metrics: acc_0.3:7.30e-01 acc_0.1:3.20e-01 acc_0.03:1.00e-01 acc_0.01:3.00e-02 main:2.95e-01: 100% 13/13 [00:00<00:00, 91.73it/s]\n",
      "Test  : 100% 63/63 [00:02<00:00, 22.99it/s]\n",
      "Train 73  D 0.00(0.00)  L 7.33e-02(1.07e-02)  : 100% 50/50 [00:00<00:00, 1280.38it/s]\n",
      "Valid 73  D 0.00(0.00)  L 5.98e-02(1.82e-01)  Metrics: acc_0.3:8.10e-01 acc_0.1:4.00e-01 acc_0.03:1.20e-01 acc_0.01:0.00e+00 main:3.33e-01: 100% 13/13 [00:00<00:00, 99.33it/s]\n",
      "Test  : 100% 63/63 [00:02<00:00, 22.97it/s]\n",
      "Train 74  D 0.00(0.00)  L 6.13e-02(3.05e-02)  : 100% 50/50 [00:00<00:00, 1062.40it/s]\n",
      "Valid 74  D 0.00(0.00)  L 6.05e-02(9.23e-02)  Metrics: acc_0.3:7.60e-01 acc_0.1:3.70e-01 acc_0.03:1.30e-01 acc_0.01:6.00e-02 main:3.30e-01: 100% 13/13 [00:00<00:00, 95.06it/s]\n",
      "Test  : 100% 63/63 [00:02<00:00, 22.92it/s]\n",
      "Train 75  D 0.00(0.00)  L 5.36e-02(3.96e-02)  : 100% 50/50 [00:00<00:00, 1265.92it/s]\n",
      "Valid 75  D 0.00(0.00)  L 3.71e-02(8.41e-02)  Metrics: acc_0.3:9.10e-01 acc_0.1:3.70e-01 acc_0.03:1.10e-01 acc_0.01:5.00e-02 main:3.60e-01: 100% 13/13 [00:00<00:00, 98.87it/s]\n",
      "Test  : 100% 63/63 [00:02<00:00, 22.99it/s]\n",
      "Train 76  D 0.00(0.00)  L 5.63e-02(3.23e-02)  : 100% 50/50 [00:00<00:00, 1425.61it/s]\n",
      "Valid 76  D 0.00(0.00)  L 7.45e-02(1.14e-01)  Metrics: acc_0.3:7.60e-01 acc_0.1:3.50e-01 acc_0.03:1.30e-01 acc_0.01:7.00e-02 main:3.28e-01: 100% 13/13 [00:00<00:00, 93.03it/s]\n",
      "Test  : 100% 63/63 [00:02<00:00, 23.25it/s]\n",
      "Train 77  D 0.00(0.00)  L 5.19e-02(1.82e-02)  : 100% 50/50 [00:00<00:00, 1095.87it/s]\n",
      "Valid 77  D 0.00(0.00)  L 6.95e-02(2.02e-01)  Metrics: acc_0.3:8.30e-01 acc_0.1:5.50e-01 acc_0.03:1.70e-01 acc_0.01:5.00e-02 main:4.00e-01: 100% 13/13 [00:00<00:00, 96.41it/s]\n",
      "Test  : 100% 63/63 [00:02<00:00, 22.87it/s]\n",
      "Train 78  D 0.00(0.00)  L 7.70e-02(3.08e-02)  : 100% 50/50 [00:00<00:00, 1263.53it/s]\n",
      "Valid 78  D 0.00(0.00)  L 4.89e-02(6.20e-02)  Metrics: acc_0.3:7.90e-01 acc_0.1:3.60e-01 acc_0.03:1.50e-01 acc_0.01:6.00e-02 main:3.40e-01: 100% 13/13 [00:00<00:00, 94.20it/s]\n",
      "Test  : 100% 63/63 [00:02<00:00, 22.95it/s]\n",
      "Train 79  D 0.00(0.00)  L 5.63e-02(2.99e-02)  : 100% 50/50 [00:00<00:00, 1153.33it/s]\n",
      "Valid 79  D 0.00(0.00)  L 9.18e-02(9.18e-02)  Metrics: acc_0.3:6.20e-01 acc_0.1:1.30e-01 acc_0.03:4.00e-02 acc_0.01:0.00e+00 main:1.98e-01: 100% 13/13 [00:00<00:00, 93.84it/s]\n",
      "Test  : 100% 63/63 [00:02<00:00, 22.76it/s]\n",
      "Train 80  D 0.00(0.00)  L 5.04e-02(5.14e-02)  : 100% 50/50 [00:00<00:00, 1229.70it/s]\n",
      "Valid 80  D 0.00(0.00)  L 4.01e-02(7.31e-02)  Metrics: acc_0.3:8.80e-01 acc_0.1:4.10e-01 acc_0.03:1.20e-01 acc_0.01:5.00e-02 main:3.65e-01: 100% 13/13 [00:00<00:00, 96.82it/s]\n",
      "Test  : 100% 63/63 [00:02<00:00, 23.12it/s]\n",
      "Train 81  D 0.00(0.00)  L 4.74e-02(4.37e-02)  : 100% 50/50 [00:00<00:00, 1191.88it/s]\n",
      "Valid 81  D 0.00(0.00)  L 4.46e-02(9.27e-02)  Metrics: acc_0.3:8.60e-01 acc_0.1:4.10e-01 acc_0.03:1.40e-01 acc_0.01:7.00e-02 main:3.70e-01: 100% 13/13 [00:00<00:00, 95.50it/s]\n",
      "Test  : 100% 63/63 [00:02<00:00, 22.61it/s]\n",
      "Train 82  D 0.00(0.00)  L 5.01e-02(8.89e-03)  : 100% 50/50 [00:00<00:00, 1275.49it/s]\n",
      "Valid 82  D 0.00(0.00)  L 3.01e-02(9.27e-02)  Metrics: acc_0.3:9.10e-01 acc_0.1:4.70e-01 acc_0.03:1.80e-01 acc_0.01:2.00e-02 main:3.95e-01: 100% 13/13 [00:00<00:00, 97.62it/s]\n",
      "Test  : 100% 63/63 [00:02<00:00, 22.82it/s]\n",
      "Train 83  D 0.00(0.00)  L 4.02e-02(1.48e-01)  : 100% 50/50 [00:00<00:00, 1282.94it/s]\n",
      "Valid 83  D 0.00(0.00)  L 6.28e-02(1.61e-01)  Metrics: acc_0.3:8.60e-01 acc_0.1:2.80e-01 acc_0.03:1.00e-01 acc_0.01:5.00e-02 main:3.22e-01: 100% 13/13 [00:00<00:00, 98.52it/s]\n",
      "Test  : 100% 63/63 [00:02<00:00, 23.15it/s]\n",
      "Train 84  D 0.00(0.00)  L 5.49e-02(5.28e-02)  : 100% 50/50 [00:00<00:00, 1382.14it/s]\n",
      "Valid 84  D 0.00(0.00)  L 3.34e-02(8.86e-02)  Metrics: acc_0.3:9.10e-01 acc_0.1:4.20e-01 acc_0.03:1.00e-01 acc_0.01:3.00e-02 main:3.65e-01: 100% 13/13 [00:00<00:00, 100.03it/s]\n",
      "Test  : 100% 63/63 [00:02<00:00, 23.01it/s]\n",
      "Train 85  D 0.00(0.00)  L 4.20e-02(4.87e-02)  : 100% 50/50 [00:00<00:00, 1275.54it/s]\n",
      "Valid 85  D 0.00(0.00)  L 4.62e-02(6.50e-02)  Metrics: acc_0.3:8.10e-01 acc_0.1:3.50e-01 acc_0.03:8.00e-02 acc_0.01:4.00e-02 main:3.20e-01: 100% 13/13 [00:00<00:00, 94.91it/s]\n",
      "Test  : 100% 63/63 [00:02<00:00, 22.95it/s]\n",
      "Train 86  D 0.00(0.00)  L 2.90e-02(3.23e-02)  : 100% 50/50 [00:00<00:00, 1127.16it/s]\n",
      "Valid 86  D 0.00(0.00)  L 2.56e-02(6.88e-02)  Metrics: acc_0.3:9.50e-01 acc_0.1:5.30e-01 acc_0.03:2.10e-01 acc_0.01:7.00e-02 main:4.40e-01: 100% 13/13 [00:00<00:00, 95.50it/s]\n",
      "Test  : 100% 63/63 [00:02<00:00, 22.98it/s]\n",
      "Train 87  D 0.00(0.00)  L 6.24e-02(1.12e-01)  : 100% 50/50 [00:00<00:00, 1084.54it/s]\n",
      "Valid 87  D 0.00(0.00)  L 6.65e-02(1.79e-02)  Metrics: acc_0.3:8.10e-01 acc_0.1:3.90e-01 acc_0.03:1.20e-01 acc_0.01:6.00e-02 main:3.45e-01: 100% 13/13 [00:00<00:00, 97.27it/s]\n",
      "Test  : 100% 63/63 [00:02<00:00, 22.58it/s]\n",
      "Train 88  D 0.00(0.00)  L 3.44e-02(4.58e-02)  : 100% 50/50 [00:00<00:00, 1126.71it/s]\n",
      "Valid 88  D 0.00(0.00)  L 4.49e-02(1.19e-01)  Metrics: acc_0.3:8.60e-01 acc_0.1:4.80e-01 acc_0.03:1.20e-01 acc_0.01:5.00e-02 main:3.77e-01: 100% 13/13 [00:00<00:00, 95.65it/s]\n",
      "Test  : 100% 63/63 [00:02<00:00, 22.67it/s]\n",
      "Train 89  D 0.00(0.00)  L 3.13e-02(1.36e-02)  : 100% 50/50 [00:00<00:00, 1177.00it/s]\n",
      "Valid 89  D 0.00(0.00)  L 3.45e-02(5.80e-02)  Metrics: acc_0.3:8.70e-01 acc_0.1:4.80e-01 acc_0.03:1.50e-01 acc_0.01:4.00e-02 main:3.85e-01: 100% 13/13 [00:00<00:00, 98.52it/s]\n",
      "Test  : 100% 63/63 [00:02<00:00, 22.58it/s]\n",
      "Train 90  D 0.00(0.00)  L 2.51e-02(1.82e-02)  : 100% 50/50 [00:00<00:00, 1435.29it/s]\n",
      "Valid 90  D 0.00(0.00)  L 2.83e-02(6.11e-02)  Metrics: acc_0.3:9.10e-01 acc_0.1:5.20e-01 acc_0.03:1.90e-01 acc_0.01:9.00e-02 main:4.28e-01: 100% 13/13 [00:00<00:00, 95.27it/s]\n",
      "Test  : 100% 63/63 [00:02<00:00, 22.84it/s]\n",
      "Train 91  D 0.00(0.00)  L 2.62e-02(7.51e-03)  : 100% 50/50 [00:00<00:00, 1301.95it/s]\n",
      "Valid 91  D 0.00(0.00)  L 2.06e-02(4.97e-02)  Metrics: acc_0.3:9.70e-01 acc_0.1:5.40e-01 acc_0.03:1.50e-01 acc_0.01:7.00e-02 main:4.33e-01: 100% 13/13 [00:00<00:00, 96.19it/s]\n",
      "Test  : 100% 63/63 [00:02<00:00, 22.80it/s]\n",
      "Train 92  D 0.00(0.00)  L 3.01e-02(2.08e-01)  : 100% 50/50 [00:00<00:00, 1155.74it/s]\n",
      "Valid 92  D 0.00(0.00)  L 3.63e-02(8.82e-02)  Metrics: acc_0.3:9.00e-01 acc_0.1:4.70e-01 acc_0.03:1.60e-01 acc_0.01:7.00e-02 main:4.00e-01: 100% 13/13 [00:00<00:00, 94.17it/s]\n",
      "Test  : 100% 63/63 [00:02<00:00, 22.66it/s]\n",
      "Train 93  D 0.00(0.00)  L 3.36e-02(8.72e-03)  : 100% 50/50 [00:00<00:00, 1297.44it/s]\n",
      "Valid 93  D 0.00(0.00)  L 2.82e-02(7.55e-02)  Metrics: acc_0.3:9.10e-01 acc_0.1:4.40e-01 acc_0.03:1.20e-01 acc_0.01:3.00e-02 main:3.75e-01: 100% 13/13 [00:00<00:00, 95.12it/s]\n",
      "Test  : 100% 63/63 [00:02<00:00, 23.28it/s]\n",
      "Train 94  D 0.00(0.00)  L 4.27e-02(1.48e-02)  : 100% 50/50 [00:00<00:00, 1251.69it/s]\n",
      "Valid 94  D 0.00(0.00)  L 3.84e-02(7.33e-02)  Metrics: acc_0.3:8.80e-01 acc_0.1:3.90e-01 acc_0.03:1.20e-01 acc_0.01:5.00e-02 main:3.60e-01: 100% 13/13 [00:00<00:00, 97.53it/s]\n",
      "Test  : 100% 63/63 [00:02<00:00, 22.60it/s]\n",
      "Train 95  D 0.00(0.00)  L 2.56e-02(1.21e-02)  : 100% 50/50 [00:00<00:00, 1201.19it/s]\n",
      "Valid 95  D 0.00(0.00)  L 2.07e-02(2.28e-02)  Metrics: acc_0.3:9.70e-01 acc_0.1:5.70e-01 acc_0.03:2.40e-01 acc_0.01:1.00e-01 main:4.70e-01: 100% 13/13 [00:00<00:00, 95.46it/s]\n",
      "Test  : 100% 63/63 [00:02<00:00, 22.84it/s]\n",
      "Train 96  D 0.00(0.00)  L 2.76e-02(1.72e-02)  : 100% 50/50 [00:00<00:00, 1049.36it/s]\n",
      "Valid 96  D 0.00(0.00)  L 2.69e-02(1.90e-02)  Metrics: acc_0.3:9.50e-01 acc_0.1:4.50e-01 acc_0.03:1.60e-01 acc_0.01:6.00e-02 main:4.05e-01: 100% 13/13 [00:00<00:00, 95.64it/s]\n",
      "Test  : 100% 63/63 [00:02<00:00, 22.70it/s]\n",
      "Train 97  D 0.00(0.00)  L 3.91e-02(5.21e-02)  : 100% 50/50 [00:00<00:00, 1113.71it/s]\n",
      "Valid 97  D 0.00(0.00)  L 3.94e-02(2.53e-02)  Metrics: acc_0.3:8.50e-01 acc_0.1:3.40e-01 acc_0.03:1.30e-01 acc_0.01:4.00e-02 main:3.40e-01: 100% 13/13 [00:00<00:00, 92.38it/s]\n",
      "Test  : 100% 63/63 [00:02<00:00, 21.93it/s]\n",
      "Train 98  D 0.00(0.00)  L 2.89e-02(2.05e-02)  : 100% 50/50 [00:00<00:00, 755.96it/s]\n",
      "Valid 98  D 0.00(0.00)  L 1.96e-02(1.93e-02)  Metrics: acc_0.3:9.80e-01 acc_0.1:5.10e-01 acc_0.03:2.10e-01 acc_0.01:5.00e-02 main:4.38e-01: 100% 13/13 [00:00<00:00, 93.01it/s]\n",
      "Test  : 100% 63/63 [00:02<00:00, 22.47it/s]\n",
      "Train 99  D 0.00(0.00)  L 2.25e-02(6.56e-03)  : 100% 50/50 [00:00<00:00, 1207.73it/s]\n",
      "Valid 99  D 0.00(0.00)  L 2.79e-02(6.08e-02)  Metrics: acc_0.3:9.30e-01 acc_0.1:4.90e-01 acc_0.03:1.50e-01 acc_0.01:6.00e-02 main:4.07e-01: 100% 13/13 [00:00<00:00, 92.52it/s]\n",
      "Test  : 100% 63/63 [00:02<00:00, 23.31it/s]\n",
      "Train 100  D 0.00(0.00)  L 2.39e-02(1.65e-02)  : 100% 50/50 [00:00<00:00, 1268.94it/s]\n",
      "Valid 100  D 0.00(0.00)  L 4.40e-02(2.24e-02)  Metrics: acc_0.3:8.60e-01 acc_0.1:4.30e-01 acc_0.03:1.00e-01 acc_0.01:4.00e-02 main:3.57e-01: 100% 13/13 [00:00<00:00, 96.57it/s]\n",
      "Test  : 100% 63/63 [00:02<00:00, 22.77it/s]\n"
     ]
    }
   ],
   "source": [
    "!scorch-train --model model.py --dataset dataset.py --epochs 100 -cp 100_epochs"
   ]
  },
  {
   "cell_type": "markdown",
   "metadata": {},
   "source": [
    "# Testing the model / Тестируем модель"
   ]
  },
  {
   "cell_type": "code",
   "execution_count": 12,
   "metadata": {},
   "outputs": [
    {
     "name": "stdout",
     "output_type": "stream",
     "text": [
      "{'acc_0.3': tensor(0.5800), 'acc_0.1': tensor(0.2200), 'acc_0.03': tensor(1.00000e-02 *\n",
      "       7.0000), 'acc_0.01': tensor(1.00000e-02 *\n",
      "       3.0000), 'main': tensor(0.2250)}\n",
      "Model restored from checkpoints/10_epochs_best.pth.tar\n",
      "Failed to load optimizer 0.\n",
      "Test  : 100% 500/500 [00:20<00:00, 24.03it/s]\n"
     ]
    }
   ],
   "source": [
    "!scorch-test --model model.py --dataset dataset.py --checkpoint checkpoints/10_epochs_best.pth.tar --prefix 10_epochs"
   ]
  },
  {
   "cell_type": "code",
   "execution_count": 13,
   "metadata": {},
   "outputs": [
    {
     "name": "stdout",
     "output_type": "stream",
     "text": [
      "{'acc_0.3': tensor(0.9700), 'acc_0.1': tensor(0.5700), 'acc_0.03': tensor(0.2400), 'acc_0.01': tensor(0.1000), 'main': tensor(0.4700)}\n",
      "Model restored from checkpoints/100_epochs_best.pth.tar\n",
      "Failed to load optimizer 0.\n",
      "Test  : 100% 500/500 [00:21<00:00, 23.74it/s]\n"
     ]
    }
   ],
   "source": [
    "!scorch-test --model model.py --dataset dataset.py --checkpoint checkpoints/100_epochs_best.pth.tar --prefix 100_epochs"
   ]
  },
  {
   "cell_type": "markdown",
   "metadata": {},
   "source": [
    "# Result analysis / Анализируем результат"
   ]
  },
  {
   "cell_type": "code",
   "execution_count": 14,
   "metadata": {},
   "outputs": [],
   "source": [
    "import os\n",
    "import torch\n",
    "\n",
    "path = './10_epochs_results/'\n",
    "\n",
    "xs = []\n",
    "ys = []\n",
    "\n",
    "for f_name in os.listdir(path):\n",
    "    f_name = os.path.join(path, f_name)\n",
    "    res = torch.load(f_name)\n",
    "    for id in res:\n",
    "        xs.append(res[id][0])\n",
    "        ys.append(res[id][1])\n",
    "#     break"
   ]
  },
  {
   "cell_type": "code",
   "execution_count": 15,
   "metadata": {},
   "outputs": [
    {
     "data": {
      "text/plain": [
       "[<matplotlib.lines.Line2D at 0x7f0d8a0104a8>]"
      ]
     },
     "execution_count": 15,
     "metadata": {},
     "output_type": "execute_result"
    },
    {
     "data": {
      "image/png": "[encoded data removed]",
      "text/plain": [
       "<Figure size 432x288 with 1 Axes>"
      ]
     },
     "metadata": {},
     "output_type": "display_data"
    }
   ],
   "source": [
    "plot(xs_train, ys_train, '*b')\n",
    "plot(xs_valid, ys_valid, '*r')\n",
    "plot(xs, ys, 'og')"
   ]
  },
  {
   "cell_type": "code",
   "execution_count": 16,
   "metadata": {},
   "outputs": [],
   "source": [
    "import os\n",
    "import torch\n",
    "\n",
    "path = './100_epochs_results/'\n",
    "\n",
    "xs = []\n",
    "ys = []\n",
    "\n",
    "for f_name in os.listdir(path):\n",
    "    f_name = os.path.join(path, f_name)\n",
    "    res = torch.load(f_name)\n",
    "    for id in res:\n",
    "        xs.append(res[id][0])\n",
    "        ys.append(res[id][1])\n",
    "#     break"
   ]
  },
  {
   "cell_type": "code",
   "execution_count": 17,
   "metadata": {},
   "outputs": [
    {
     "data": {
      "text/plain": [
       "[<matplotlib.lines.Line2D at 0x7f0d89ff8f98>]"
      ]
     },
     "execution_count": 17,
     "metadata": {},
     "output_type": "execute_result"
    },
    {
     "data": {
      "image/png": "[encoded data removed]",
      "text/plain": [
       "<Figure size 432x288 with 1 Axes>"
      ]
     },
     "metadata": {},
     "output_type": "display_data"
    }
   ],
   "source": [
    "plot(xs_train, ys_train, '*b')\n",
    "plot(xs_valid, ys_valid, '*r')\n",
    "plot(xs, ys, 'og')"
   ]
  }
 ],
 "metadata": {
  "kernelspec": {
   "display_name": "Python 3",
   "language": "python",
   "name": "python3"
  },
  "language_info": {
   "codemirror_mode": {
    "name": "ipython",
    "version": 3
   },
   "file_extension": ".py",
   "mimetype": "text/x-python",
   "name": "python",
   "nbconvert_exporter": "python",
   "pygments_lexer": "ipython3",
   "version": "3.6.5"
  }
 },
 "nbformat": 4,
 "nbformat_minor": 2
}
